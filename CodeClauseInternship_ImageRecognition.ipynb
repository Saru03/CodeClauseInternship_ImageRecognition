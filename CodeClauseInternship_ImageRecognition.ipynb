{
  "nbformat": 4,
  "nbformat_minor": 0,
  "metadata": {
    "colab": {
      "provenance": [],
      "toc_visible": true
    },
    "kernelspec": {
      "name": "python3",
      "display_name": "Python 3"
    },
    "language_info": {
      "name": "python"
    }
  },
  "cells": [
    {
      "cell_type": "markdown",
      "metadata": {
        "id": "gmrd-CJrmiSh"
      },
      "source": [
        "# Importing Libraries"
      ]
    },
    {
      "cell_type": "code",
      "execution_count": 1,
      "metadata": {
        "id": "uIfU30Fxl_-_"
      },
      "outputs": [],
      "source": [
        "import tensorflow as tf\n",
        "from tensorflow.keras import datasets, layers, models\n",
        "from sklearn.metrics import confusion_matrix,classification_report\n",
        "import numpy as np\n",
        "import matplotlib.pyplot as plt"
      ]
    },
    {
      "cell_type": "markdown",
      "metadata": {
        "id": "sEGdh6pxoHM5"
      },
      "source": [
        "# Loading the data into different classes"
      ]
    },
    {
      "cell_type": "code",
      "execution_count": 2,
      "metadata": {
        "id": "A-KJnl4WmSkp",
        "colab": {
          "base_uri": "https://localhost:8080/"
        },
        "outputId": "60048b2b-14d6-4ba9-cb09-2ea3701ad7c6"
      },
      "outputs": [
        {
          "output_type": "stream",
          "name": "stdout",
          "text": [
            "Downloading data from https://www.cs.toronto.edu/~kriz/cifar-10-python.tar.gz\n",
            "170498071/170498071 [==============================] - 3s 0us/step\n"
          ]
        }
      ],
      "source": [
        "(train_images,train_labels),(test_images,test_labels)=datasets.cifar10.load_data()"
      ]
    },
    {
      "cell_type": "code",
      "execution_count": 3,
      "metadata": {
        "colab": {
          "base_uri": "https://localhost:8080/"
        },
        "id": "SPApsMzVnzVK",
        "collapsed": true,
        "outputId": "de91f794-9206-447d-f534-39ace118a69d"
      },
      "outputs": [
        {
          "output_type": "execute_result",
          "data": {
            "text/plain": [
              "(50000, 1)"
            ]
          },
          "metadata": {},
          "execution_count": 3
        }
      ],
      "source": [
        "train_labels.shape"
      ]
    },
    {
      "cell_type": "code",
      "source": [
        "train_labels"
      ],
      "metadata": {
        "colab": {
          "base_uri": "https://localhost:8080/"
        },
        "id": "8xXsGzNoMQJ-",
        "outputId": "ee794957-1b31-42f9-814b-6770dae4b064"
      },
      "execution_count": 4,
      "outputs": [
        {
          "output_type": "execute_result",
          "data": {
            "text/plain": [
              "array([[6],\n",
              "       [9],\n",
              "       [9],\n",
              "       ...,\n",
              "       [9],\n",
              "       [1],\n",
              "       [1]], dtype=uint8)"
            ]
          },
          "metadata": {},
          "execution_count": 4
        }
      ]
    },
    {
      "cell_type": "code",
      "source": [
        "train_labels= train_labels.reshape(-1,)\n",
        "train_labels[:5]"
      ],
      "metadata": {
        "colab": {
          "base_uri": "https://localhost:8080/"
        },
        "id": "k3NNr8ChQSS4",
        "outputId": "1516df9c-0c72-4390-eb3b-b35610eb754d"
      },
      "execution_count": 5,
      "outputs": [
        {
          "output_type": "execute_result",
          "data": {
            "text/plain": [
              "array([6, 9, 9, 4, 1], dtype=uint8)"
            ]
          },
          "metadata": {},
          "execution_count": 5
        }
      ]
    },
    {
      "cell_type": "code",
      "source": [
        "test_labels=test_labels.reshape(-1,)\n",
        "test_labels[:5]"
      ],
      "metadata": {
        "colab": {
          "base_uri": "https://localhost:8080/"
        },
        "id": "EMAabfr_R_lm",
        "outputId": "e52a8ee2-6aac-43e9-9570-0f744dc175ce"
      },
      "execution_count": 6,
      "outputs": [
        {
          "output_type": "execute_result",
          "data": {
            "text/plain": [
              "array([3, 8, 8, 0, 6], dtype=uint8)"
            ]
          },
          "metadata": {},
          "execution_count": 6
        }
      ]
    },
    {
      "cell_type": "code",
      "source": [
        "IMAGE_SIZE = 32\n",
        "BATCH_SIZE = 32\n",
        "EPOCHS = 50\n",
        "classes = ['airplane', 'automobile', 'bird', 'cat', 'deer',\n",
        "               'dog', 'frog', 'horse', 'ship', 'truck']"
      ],
      "metadata": {
        "id": "X4MHE3zALN6M"
      },
      "execution_count": 7,
      "outputs": []
    },
    {
      "cell_type": "markdown",
      "source": [
        "# Visualising data"
      ],
      "metadata": {
        "id": "4m79qnwZK3YU"
      }
    },
    {
      "cell_type": "code",
      "source": [
        "def plot(X,y,index):\n",
        "  plt.figure(figsize=(15,3))\n",
        "  plt.imshow(X[index])\n",
        "  plt.xlabel(classes[y[index]])\n",
        "\n",
        "plot(train_images,train_labels,2)"
      ],
      "metadata": {
        "id": "iWJSEFeIK7o9",
        "colab": {
          "base_uri": "https://localhost:8080/",
          "height": 313
        },
        "outputId": "c4984f84-a1d0-4d25-f31c-4dd251109cd6"
      },
      "execution_count": 8,
      "outputs": [
        {
          "output_type": "display_data",
          "data": {
            "text/plain": [
              "<Figure size 1500x300 with 1 Axes>"
            ],
            "image/png": "[encoded data removed]"
          },
          "metadata": {}
        }
      ]
    },
    {
      "cell_type": "markdown",
      "metadata": {
        "id": "pwSZoJo0odtC"
      },
      "source": [
        "# Normalising the dataset"
      ]
    },
    {
      "cell_type": "code",
      "execution_count": 9,
      "metadata": {
        "id": "kMB4jrFFn3Gy"
      },
      "outputs": [],
      "source": [
        "train_images=train_images/255.0\n",
        "test_images=test_images/255.0"
      ]
    },
    {
      "cell_type": "markdown",
      "source": [
        "# Building a model"
      ],
      "metadata": {
        "id": "WEXNOTiNSWRQ"
      }
    },
    {
      "cell_type": "code",
      "source": [],
      "metadata": {
        "id": "EvHny-AR2xyc"
      },
      "execution_count": 9,
      "outputs": []
    },
    {
      "cell_type": "code",
      "source": [
        "model = models.Sequential([\n",
        "    layers.Conv2D(32, (3, 3),  activation='relu', input_shape=(32, 32, 3)),\n",
        "    layers.MaxPooling2D((2, 2)),\n",
        "    layers.Conv2D(64, (3, 3),  activation='relu'),\n",
        "    layers.MaxPooling2D((2, 2)),\n",
        "\n",
        "\n",
        "    layers.Flatten(),\n",
        "    layers.Dense(64, activation='relu'),\n",
        "    layers.Dense(10, activation='softmax')\n",
        "])\n",
        "model.build(input_shape=(None,32,32,3))\n",
        "model.summary()"
      ],
      "metadata": {
        "colab": {
          "base_uri": "https://localhost:8080/"
        },
        "id": "YNVawH53SaV4",
        "outputId": "721f1268-3ebb-4471-d594-6d8073be5135"
      },
      "execution_count": 10,
      "outputs": [
        {
          "output_type": "stream",
          "name": "stdout",
          "text": [
            "Model: \"sequential\"\n",
            "_________________________________________________________________\n",
            " Layer (type)                Output Shape              Param #   \n",
            "=================================================================\n",
            " conv2d (Conv2D)             (None, 30, 30, 32)        896       \n",
            "                                                                 \n",
            " max_pooling2d (MaxPooling2  (None, 15, 15, 32)        0         \n",
            " D)                                                              \n",
            "                                                                 \n",
            " conv2d_1 (Conv2D)           (None, 13, 13, 64)        18496     \n",
            "                                                                 \n",
            " max_pooling2d_1 (MaxPoolin  (None, 6, 6, 64)          0         \n",
            " g2D)                                                            \n",
            "                                                                 \n",
            " flatten (Flatten)           (None, 2304)              0         \n",
            "                                                                 \n",
            " dense (Dense)               (None, 64)                147520    \n",
            "                                                                 \n",
            " dense_1 (Dense)             (None, 10)                650       \n",
            "                                                                 \n",
            "=================================================================\n",
            "Total params: 167562 (654.54 KB)\n",
            "Trainable params: 167562 (654.54 KB)\n",
            "Non-trainable params: 0 (0.00 Byte)\n",
            "_________________________________________________________________\n"
          ]
        }
      ]
    },
    {
      "cell_type": "code",
      "source": [
        "model.compile(\n",
        "    optimizer='adam',\n",
        "    loss=tf.keras.losses.SparseCategoricalCrossentropy(from_logits=False),\n",
        "    metrics=['accuracy']\n",
        ")"
      ],
      "metadata": {
        "id": "bRWBXAnQTOyI"
      },
      "execution_count": 11,
      "outputs": []
    },
    {
      "cell_type": "code",
      "source": [
        "history = model.fit(\n",
        "    train_images,train_labels,\n",
        "    epochs=50,\n",
        "    verbose=1,\n",
        "\n",
        "\n",
        ")\n"
      ],
      "metadata": {
        "colab": {
          "base_uri": "https://localhost:8080/"
        },
        "id": "uuDnTaQiTPAA",
        "outputId": "9e564823-3be0-4b25-f8bd-7654064b8893"
      },
      "execution_count": 12,
      "outputs": [
        {
          "output_type": "stream",
          "name": "stdout",
          "text": [
            "Epoch 1/50\n",
            "1563/1563 [==============================] - 53s 33ms/step - loss: 1.4707 - accuracy: 0.4689\n",
            "Epoch 2/50\n",
            "1563/1563 [==============================] - 53s 34ms/step - loss: 1.1280 - accuracy: 0.6026\n",
            "Epoch 3/50\n",
            "1563/1563 [==============================] - 53s 34ms/step - loss: 0.9890 - accuracy: 0.6547\n",
            "Epoch 4/50\n",
            "1563/1563 [==============================] - 53s 34ms/step - loss: 0.9088 - accuracy: 0.6831\n",
            "Epoch 5/50\n",
            "1563/1563 [==============================] - 55s 35ms/step - loss: 0.8398 - accuracy: 0.7083\n",
            "Epoch 6/50\n",
            "1563/1563 [==============================] - 53s 34ms/step - loss: 0.7847 - accuracy: 0.7250\n",
            "Epoch 7/50\n",
            "1563/1563 [==============================] - 53s 34ms/step - loss: 0.7344 - accuracy: 0.7423\n",
            "Epoch 8/50\n",
            "1563/1563 [==============================] - 53s 34ms/step - loss: 0.6924 - accuracy: 0.7579\n",
            "Epoch 9/50\n",
            "1563/1563 [==============================] - 55s 35ms/step - loss: 0.6527 - accuracy: 0.7713\n",
            "Epoch 10/50\n",
            "1563/1563 [==============================] - 55s 35ms/step - loss: 0.6156 - accuracy: 0.7844\n",
            "Epoch 11/50\n",
            "1563/1563 [==============================] - 51s 33ms/step - loss: 0.5869 - accuracy: 0.7933\n",
            "Epoch 12/50\n",
            "1563/1563 [==============================] - 52s 33ms/step - loss: 0.5546 - accuracy: 0.8046\n",
            "Epoch 13/50\n",
            "1563/1563 [==============================] - 52s 33ms/step - loss: 0.5265 - accuracy: 0.8136\n",
            "Epoch 14/50\n",
            "1563/1563 [==============================] - 54s 35ms/step - loss: 0.4954 - accuracy: 0.8264\n",
            "Epoch 15/50\n",
            "1563/1563 [==============================] - 53s 34ms/step - loss: 0.4680 - accuracy: 0.8352\n",
            "Epoch 16/50\n",
            "1563/1563 [==============================] - 52s 34ms/step - loss: 0.4447 - accuracy: 0.8413\n",
            "Epoch 17/50\n",
            "1563/1563 [==============================] - 53s 34ms/step - loss: 0.4208 - accuracy: 0.8506\n",
            "Epoch 18/50\n",
            "1563/1563 [==============================] - 52s 33ms/step - loss: 0.3992 - accuracy: 0.8570\n",
            "Epoch 19/50\n",
            "1563/1563 [==============================] - 53s 34ms/step - loss: 0.3759 - accuracy: 0.8661\n",
            "Epoch 20/50\n",
            "1563/1563 [==============================] - 51s 33ms/step - loss: 0.3574 - accuracy: 0.8713\n",
            "Epoch 21/50\n",
            "1563/1563 [==============================] - 52s 33ms/step - loss: 0.3430 - accuracy: 0.8757\n",
            "Epoch 22/50\n",
            "1563/1563 [==============================] - 51s 33ms/step - loss: 0.3213 - accuracy: 0.8843\n",
            "Epoch 23/50\n",
            "1563/1563 [==============================] - 51s 32ms/step - loss: 0.3067 - accuracy: 0.8897\n",
            "Epoch 24/50\n",
            "1563/1563 [==============================] - 53s 34ms/step - loss: 0.2931 - accuracy: 0.8958\n",
            "Epoch 25/50\n",
            "1563/1563 [==============================] - 52s 33ms/step - loss: 0.2705 - accuracy: 0.9010\n",
            "Epoch 26/50\n",
            "1563/1563 [==============================] - 52s 33ms/step - loss: 0.2605 - accuracy: 0.9051\n",
            "Epoch 27/50\n",
            "1563/1563 [==============================] - 50s 32ms/step - loss: 0.2474 - accuracy: 0.9105\n",
            "Epoch 28/50\n",
            "1563/1563 [==============================] - 51s 33ms/step - loss: 0.2419 - accuracy: 0.9128\n",
            "Epoch 29/50\n",
            "1563/1563 [==============================] - 53s 34ms/step - loss: 0.2235 - accuracy: 0.9186\n",
            "Epoch 30/50\n",
            "1563/1563 [==============================] - 52s 33ms/step - loss: 0.2174 - accuracy: 0.9212\n",
            "Epoch 31/50\n",
            "1563/1563 [==============================] - 52s 33ms/step - loss: 0.2103 - accuracy: 0.9238\n",
            "Epoch 32/50\n",
            "1563/1563 [==============================] - 51s 33ms/step - loss: 0.1984 - accuracy: 0.9290\n",
            "Epoch 33/50\n",
            "1563/1563 [==============================] - 51s 33ms/step - loss: 0.1852 - accuracy: 0.9324\n",
            "Epoch 34/50\n",
            "1563/1563 [==============================] - 53s 34ms/step - loss: 0.1806 - accuracy: 0.9350\n",
            "Epoch 35/50\n",
            "1563/1563 [==============================] - 51s 33ms/step - loss: 0.1741 - accuracy: 0.9368\n",
            "Epoch 36/50\n",
            "1563/1563 [==============================] - 50s 32ms/step - loss: 0.1659 - accuracy: 0.9388\n",
            "Epoch 37/50\n",
            "1563/1563 [==============================] - 51s 33ms/step - loss: 0.1588 - accuracy: 0.9424\n",
            "Epoch 38/50\n",
            "1563/1563 [==============================] - 51s 33ms/step - loss: 0.1542 - accuracy: 0.9444\n",
            "Epoch 39/50\n",
            "1563/1563 [==============================] - 52s 33ms/step - loss: 0.1489 - accuracy: 0.9454\n",
            "Epoch 40/50\n",
            "1563/1563 [==============================] - 49s 32ms/step - loss: 0.1482 - accuracy: 0.9464\n",
            "Epoch 41/50\n",
            "1563/1563 [==============================] - 51s 32ms/step - loss: 0.1425 - accuracy: 0.9498\n",
            "Epoch 42/50\n",
            "1563/1563 [==============================] - 51s 33ms/step - loss: 0.1403 - accuracy: 0.9486\n",
            "Epoch 43/50\n",
            "1563/1563 [==============================] - 51s 33ms/step - loss: 0.1291 - accuracy: 0.9535\n",
            "Epoch 44/50\n",
            "1563/1563 [==============================] - 49s 32ms/step - loss: 0.1344 - accuracy: 0.9514\n",
            "Epoch 45/50\n",
            "1563/1563 [==============================] - 51s 33ms/step - loss: 0.1176 - accuracy: 0.9575\n",
            "Epoch 46/50\n",
            "1563/1563 [==============================] - 52s 33ms/step - loss: 0.1181 - accuracy: 0.9583\n",
            "Epoch 47/50\n",
            "1563/1563 [==============================] - 54s 35ms/step - loss: 0.1223 - accuracy: 0.9559\n",
            "Epoch 48/50\n",
            "1563/1563 [==============================] - 58s 37ms/step - loss: 0.1222 - accuracy: 0.9573\n",
            "Epoch 49/50\n",
            "1563/1563 [==============================] - 53s 34ms/step - loss: 0.1157 - accuracy: 0.9591\n",
            "Epoch 50/50\n",
            "1563/1563 [==============================] - 53s 34ms/step - loss: 0.1071 - accuracy: 0.9620\n"
          ]
        }
      ]
    },
    {
      "cell_type": "code",
      "source": [
        "model.evaluate(test_images,test_labels)"
      ],
      "metadata": {
        "id": "1GEwD4ZRTPKo",
        "colab": {
          "base_uri": "https://localhost:8080/"
        },
        "outputId": "5f624bff-9083-4bba-ee42-c1bbbeb6ba36"
      },
      "execution_count": 13,
      "outputs": [
        {
          "output_type": "stream",
          "name": "stdout",
          "text": [
            "313/313 [==============================] - 4s 12ms/step - loss: 2.9738 - accuracy: 0.6546\n"
          ]
        },
        {
          "output_type": "execute_result",
          "data": {
            "text/plain": [
              "[2.9738450050354004, 0.6546000242233276]"
            ]
          },
          "metadata": {},
          "execution_count": 13
        }
      ]
    },
    {
      "cell_type": "code",
      "source": [
        "predictions=model.predict(test_images)\n",
        "predictions[:5]"
      ],
      "metadata": {
        "colab": {
          "base_uri": "https://localhost:8080/"
        },
        "id": "foWV_vUp2zRk",
        "outputId": "17315b19-16b0-4072-b0f3-34064f31b75d"
      },
      "execution_count": 14,
      "outputs": [
        {
          "output_type": "stream",
          "name": "stdout",
          "text": [
            "313/313 [==============================] - 4s 11ms/step\n"
          ]
        },
        {
          "output_type": "execute_result",
          "data": {
            "text/plain": [
              "array([[2.60707735e-19, 2.36709697e-12, 2.26014736e-12, 9.98938978e-01,\n",
              "        8.19457853e-07, 1.06024963e-03, 3.66076569e-09, 4.32298299e-16,\n",
              "        6.30134746e-12, 2.04589890e-17],\n",
              "       [4.19804768e-04, 1.59958873e-07, 1.04701638e-25, 1.73839737e-25,\n",
              "        6.13247356e-19, 1.00860297e-29, 4.11708107e-36, 9.23389898e-33,\n",
              "        9.99574482e-01, 5.64110633e-06],\n",
              "       [3.47746015e-01, 6.83889812e-06, 8.94679331e-11, 3.12416785e-04,\n",
              "        1.51937257e-03, 1.24039163e-03, 7.41971131e-15, 2.36270607e-05,\n",
              "        6.49151266e-01, 1.60318692e-08],\n",
              "       [9.99986231e-01, 6.94886423e-13, 5.56135069e-11, 1.87781721e-10,\n",
              "        8.43586978e-09, 2.93176978e-20, 4.09328880e-23, 2.46357754e-19,\n",
              "        1.36620965e-05, 6.35110996e-13],\n",
              "       [2.56527139e-19, 1.03074825e-15, 6.33083232e-07, 3.04144691e-04,\n",
              "        8.16724479e-01, 1.98842520e-09, 1.82970747e-01, 1.26854698e-17,\n",
              "        8.11428509e-19, 1.05381285e-21]], dtype=float32)"
            ]
          },
          "metadata": {},
          "execution_count": 14
        }
      ]
    },
    {
      "cell_type": "code",
      "source": [
        "label_classes=[np.argmax(element) for element in predictions]\n",
        "label_classes[:5]"
      ],
      "metadata": {
        "colab": {
          "base_uri": "https://localhost:8080/"
        },
        "id": "Pu5gxZbe6HFR",
        "outputId": "a78c7741-7409-4c4d-bd8d-f77ac810ac2c"
      },
      "execution_count": 15,
      "outputs": [
        {
          "output_type": "execute_result",
          "data": {
            "text/plain": [
              "[3, 8, 8, 0, 4]"
            ]
          },
          "metadata": {},
          "execution_count": 15
        }
      ]
    },
    {
      "cell_type": "code",
      "source": [
        "plot(test_images,test_labels,1)"
      ],
      "metadata": {
        "colab": {
          "base_uri": "https://localhost:8080/",
          "height": 313
        },
        "id": "q0IIeWyL4Wz6",
        "outputId": "0b7d765f-3aaa-4e93-e4b8-f49261480a8d"
      },
      "execution_count": 16,
      "outputs": [
        {
          "output_type": "display_data",
          "data": {
            "text/plain": [
              "<Figure size 1500x300 with 1 Axes>"
            ],
            "image/png": "[encoded data removed]"
          },
          "metadata": {}
        }
      ]
    },
    {
      "cell_type": "code",
      "source": [
        "test_labels[:5]"
      ],
      "metadata": {
        "colab": {
          "base_uri": "https://localhost:8080/"
        },
        "id": "_3TBJElC4jsA",
        "outputId": "de7204ee-8b7d-4296-dc36-b663c718d026"
      },
      "execution_count": 17,
      "outputs": [
        {
          "output_type": "execute_result",
          "data": {
            "text/plain": [
              "array([3, 8, 8, 0, 6], dtype=uint8)"
            ]
          },
          "metadata": {},
          "execution_count": 17
        }
      ]
    },
    {
      "cell_type": "code",
      "source": [
        "plot(test_images,test_labels,2)"
      ],
      "metadata": {
        "colab": {
          "base_uri": "https://localhost:8080/",
          "height": 313
        },
        "id": "zW1TP-tS7Bch",
        "outputId": "902d7113-2760-4e22-c556-66f11017e784"
      },
      "execution_count": 22,
      "outputs": [
        {
          "output_type": "display_data",
          "data": {
            "text/plain": [
              "<Figure size 1500x300 with 1 Axes>"
            ],
            "image/png": "[encoded data removed]"
          },
          "metadata": {}
        }
      ]
    },
    {
      "cell_type": "code",
      "source": [
        "classes[label_classes[2]]"
      ],
      "metadata": {
        "colab": {
          "base_uri": "https://localhost:8080/",
          "height": 36
        },
        "id": "ZCo8HKMf6zpu",
        "outputId": "21d6534d-70c8-4440-9016-0f31d5c2bdd2"
      },
      "execution_count": 23,
      "outputs": [
        {
          "output_type": "execute_result",
          "data": {
            "text/plain": [
              "'ship'"
            ],
            "application/vnd.google.colaboratory.intrinsic+json": {
              "type": "string"
            }
          },
          "metadata": {},
          "execution_count": 23
        }
      ]
    },
    {
      "cell_type": "code",
      "source": [
        "print(\"Classification Report: \\n\", classification_report(test_labels,label_classes))"
      ],
      "metadata": {
        "colab": {
          "base_uri": "https://localhost:8080/"
        },
        "id": "PfInKRZP7Rwt",
        "outputId": "7cf60047-cd60-40dc-fbc8-4df5bb1f50b2"
      },
      "execution_count": 20,
      "outputs": [
        {
          "output_type": "stream",
          "name": "stdout",
          "text": [
            "Classification Report: \n",
            "               precision    recall  f1-score   support\n",
            "\n",
            "           0       0.68      0.68      0.68      1000\n",
            "           1       0.81      0.74      0.77      1000\n",
            "           2       0.53      0.51      0.52      1000\n",
            "           3       0.49      0.46      0.47      1000\n",
            "           4       0.58      0.65      0.61      1000\n",
            "           5       0.50      0.62      0.55      1000\n",
            "           6       0.74      0.70      0.72      1000\n",
            "           7       0.73      0.69      0.71      1000\n",
            "           8       0.80      0.74      0.77      1000\n",
            "           9       0.74      0.76      0.75      1000\n",
            "\n",
            "    accuracy                           0.65     10000\n",
            "   macro avg       0.66      0.65      0.66     10000\n",
            "weighted avg       0.66      0.65      0.66     10000\n",
            "\n"
          ]
        }
      ]
    },
    {
      "cell_type": "code",
      "source": [
        "import seaborn as sn\n",
        "plt.figure(figsize = (10,7))\n",
        "sn.heatmap(confusion_matrix(test_labels,label_classes),annot=True,fmt='d')\n",
        "plt.xlabel('Predicted')\n",
        "plt.ylabel('Truth')"
      ],
      "metadata": {
        "colab": {
          "base_uri": "https://localhost:8080/",
          "height": 516
        },
        "id": "ultmKHfO8K7O",
        "outputId": "8275960a-6448-40b1-95bb-116c5dec5f93"
      },
      "execution_count": 21,
      "outputs": [
        {
          "output_type": "execute_result",
          "data": {
            "text/plain": [
              "Text(95.72222222222221, 0.5, 'Truth')"
            ]
          },
          "metadata": {},
          "execution_count": 21
        },
        {
          "output_type": "display_data",
          "data": {
            "text/plain": [
              "<Figure size 1000x700 with 2 Axes>"
            ],
            "image/png": "[encoded data removed]"
          },
          "metadata": {}
        }
      ]
    }
  ]
}